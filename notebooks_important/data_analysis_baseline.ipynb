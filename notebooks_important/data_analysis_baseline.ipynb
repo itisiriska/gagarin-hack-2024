{
 "cells": [
  {
   "cell_type": "code",
   "execution_count": 120,
   "metadata": {},
   "outputs": [],
   "source": [
    "import numpy as np\n",
    "import pandas as pd\n",
    "import matplotlib.pyplot as plt\n",
    "import seaborn as sns\n",
    "import spacy\n",
    "\n",
    "from tqdm import tqdm\n",
    "from string import punctuation\n",
    "from sklearn.metrics import f1_score\n",
    "\n",
    "from dostoevsky.tokenization import RegexTokenizer\n",
    "from dostoevsky.models import FastTextSocialNetworkModel"
   ]
  },
  {
   "cell_type": "markdown",
   "metadata": {},
   "source": [
    "Краткое описание дата сета:\n",
    "\n",
    "Качество предлагаемого участниками решения будет оцениваться по 2-ум задачам:\n",
    "\n",
    "1)      Корректное нахождение компаний. Релевантные таблицы:\n",
    "a.       mentions.csv  - содержит id канала, id сообщения и id упоминаемой компании\n",
    "b.       mentions_texts.pickle – содержит id канала, id сообщения и текст этого сообщения\n",
    "\n",
    "2)      Корректное распознавание сентимента. Релевантные таблицы:\n",
    "a.       sentiment.csv – содержит id канала, id сообщения, id компании и score сентимента\n",
    "b.       sentiment_texts.pickle - содержит id канала, id сообщения и текст этого сообщения"
   ]
  },
  {
   "cell_type": "code",
   "execution_count": 2,
   "metadata": {},
   "outputs": [
    {
     "name": "stderr",
     "output_type": "stream",
     "text": [
      "c:\\Users\\sveta\\AppData\\Local\\Programs\\Python\\Python39\\lib\\site-packages\\spacy\\util.py:910: UserWarning: [W095] Model 'ru_core_news_sm' (3.5.0) was trained with spaCy v3.5.0 and may not be 100% compatible with the current version (3.7.2). If you see errors or degraded performance, download a newer compatible model or retrain your custom model with the current spaCy version. For more details and available updates, run: python -m spacy validate\n",
      "  warnings.warn(warn_msg)\n"
     ]
    }
   ],
   "source": [
    "sns.set_theme()\n",
    "tqdm.pandas()\n",
    "nlp = spacy.load('ru_core_news_sm')"
   ]
  },
  {
   "cell_type": "code",
   "execution_count": 3,
   "metadata": {},
   "outputs": [],
   "source": [
    "DATA_PATH = 'data'"
   ]
  },
  {
   "cell_type": "markdown",
   "metadata": {},
   "source": [
    "# Mentions"
   ]
  },
  {
   "cell_type": "code",
   "execution_count": 4,
   "metadata": {},
   "outputs": [
    {
     "data": {
      "text/html": [
       "<div>\n",
       "<style scoped>\n",
       "    .dataframe tbody tr th:only-of-type {\n",
       "        vertical-align: middle;\n",
       "    }\n",
       "\n",
       "    .dataframe tbody tr th {\n",
       "        vertical-align: top;\n",
       "    }\n",
       "\n",
       "    .dataframe thead th {\n",
       "        text-align: right;\n",
       "    }\n",
       "</style>\n",
       "<table border=\"1\" class=\"dataframe\">\n",
       "  <thead>\n",
       "    <tr style=\"text-align: right;\">\n",
       "      <th></th>\n",
       "      <th>ChannelID</th>\n",
       "      <th>messageid</th>\n",
       "      <th>issuerid</th>\n",
       "      <th>MessageID</th>\n",
       "      <th>DateAdded</th>\n",
       "      <th>DatePosted</th>\n",
       "      <th>MessageText</th>\n",
       "      <th>IsForward</th>\n",
       "    </tr>\n",
       "  </thead>\n",
       "  <tbody>\n",
       "    <tr>\n",
       "      <th>0</th>\n",
       "      <td>1197210433</td>\n",
       "      <td>5408</td>\n",
       "      <td>90</td>\n",
       "      <td>5408</td>\n",
       "      <td>2021-02-06 01:42:42</td>\n",
       "      <td>2020-04-29 07:29:01</td>\n",
       "      <td>?? Фокус недели #ФН  Сегодня ????? ММК опублик...</td>\n",
       "      <td>False</td>\n",
       "    </tr>\n",
       "    <tr>\n",
       "      <th>1</th>\n",
       "      <td>1203560567</td>\n",
       "      <td>64803</td>\n",
       "      <td>57</td>\n",
       "      <td>64803</td>\n",
       "      <td>2021-02-06 01:47:00</td>\n",
       "      <td>2020-01-21 12:51:42</td>\n",
       "      <td>??#LSRG  ЛСР - операционные результаты (2019г)...</td>\n",
       "      <td>False</td>\n",
       "    </tr>\n",
       "    <tr>\n",
       "      <th>2</th>\n",
       "      <td>1197210433</td>\n",
       "      <td>23389</td>\n",
       "      <td>152</td>\n",
       "      <td>23389</td>\n",
       "      <td>2021-07-21 13:46:31</td>\n",
       "      <td>2021-07-21 11:15:46</td>\n",
       "      <td>#CHMF Северсталь (CHMF) впервые поставила в Бр...</td>\n",
       "      <td>False</td>\n",
       "    </tr>\n",
       "    <tr>\n",
       "      <th>3</th>\n",
       "      <td>1066174394</td>\n",
       "      <td>677</td>\n",
       "      <td>112</td>\n",
       "      <td>677</td>\n",
       "      <td>2021-09-21 04:23:59</td>\n",
       "      <td>2016-12-16 10:00:04</td>\n",
       "      <td>\"Версия: Многоходовочка по Роснефти  Роснефтег...</td>\n",
       "      <td>False</td>\n",
       "    </tr>\n",
       "    <tr>\n",
       "      <th>4</th>\n",
       "      <td>1239405989</td>\n",
       "      <td>4486</td>\n",
       "      <td>115</td>\n",
       "      <td>4486</td>\n",
       "      <td>2023-01-20 15:02:22</td>\n",
       "      <td>2023-01-20 13:03:38</td>\n",
       "      <td>🟢 Новости к этому часу   ⚪️ФРС США необходимо ...</td>\n",
       "      <td>False</td>\n",
       "    </tr>\n",
       "  </tbody>\n",
       "</table>\n",
       "</div>"
      ],
      "text/plain": [
       "    ChannelID  messageid  issuerid  MessageID           DateAdded  \\\n",
       "0  1197210433       5408        90       5408 2021-02-06 01:42:42   \n",
       "1  1203560567      64803        57      64803 2021-02-06 01:47:00   \n",
       "2  1197210433      23389       152      23389 2021-07-21 13:46:31   \n",
       "3  1066174394        677       112        677 2021-09-21 04:23:59   \n",
       "4  1239405989       4486       115       4486 2023-01-20 15:02:22   \n",
       "\n",
       "           DatePosted                                        MessageText  \\\n",
       "0 2020-04-29 07:29:01  ?? Фокус недели #ФН  Сегодня ????? ММК опублик...   \n",
       "1 2020-01-21 12:51:42  ??#LSRG  ЛСР - операционные результаты (2019г)...   \n",
       "2 2021-07-21 11:15:46  #CHMF Северсталь (CHMF) впервые поставила в Бр...   \n",
       "3 2016-12-16 10:00:04  \"Версия: Многоходовочка по Роснефти  Роснефтег...   \n",
       "4 2023-01-20 13:03:38  🟢 Новости к этому часу   ⚪️ФРС США необходимо ...   \n",
       "\n",
       "   IsForward  \n",
       "0      False  \n",
       "1      False  \n",
       "2      False  \n",
       "3      False  \n",
       "4      False  "
      ]
     },
     "execution_count": 4,
     "metadata": {},
     "output_type": "execute_result"
    }
   ],
   "source": [
    "df = pd.read_pickle(DATA_PATH + '/mentions texts.pickle')\n",
    "df.head()"
   ]
  },
  {
   "cell_type": "markdown",
   "metadata": {},
   "source": [
    "Проверим на дубликаты"
   ]
  },
  {
   "cell_type": "code",
   "execution_count": 5,
   "metadata": {},
   "outputs": [
    {
     "data": {
      "text/plain": [
       "2744"
      ]
     },
     "execution_count": 5,
     "metadata": {},
     "output_type": "execute_result"
    }
   ],
   "source": [
    "df['MessageText'].duplicated().sum()"
   ]
  },
  {
   "cell_type": "code",
   "execution_count": 6,
   "metadata": {},
   "outputs": [
    {
     "data": {
      "text/plain": [
       "0"
      ]
     },
     "execution_count": 6,
     "metadata": {},
     "output_type": "execute_result"
    }
   ],
   "source": [
    "df.duplicated().sum()"
   ]
  },
  {
   "cell_type": "markdown",
   "metadata": {},
   "source": [
    "Следовательно, на некоторые тексты определилось несколько issuerid"
   ]
  },
  {
   "cell_type": "code",
   "execution_count": 8,
   "metadata": {},
   "outputs": [
    {
     "data": {
      "text/plain": [
       "ChannelID      0\n",
       "messageid      0\n",
       "issuerid       0\n",
       "MessageID      0\n",
       "DateAdded      0\n",
       "DatePosted     0\n",
       "MessageText    0\n",
       "IsForward      0\n",
       "dtype: int64"
      ]
     },
     "execution_count": 8,
     "metadata": {},
     "output_type": "execute_result"
    }
   ],
   "source": [
    "df.isna().sum()"
   ]
  },
  {
   "cell_type": "markdown",
   "metadata": {},
   "source": [
    "Предобработка с помощью спейси:"
   ]
  },
  {
   "cell_type": "code",
   "execution_count": 10,
   "metadata": {},
   "outputs": [
    {
     "name": "stderr",
     "output_type": "stream",
     "text": [
      "  0%|          | 0/19355 [00:00<?, ?it/s]"
     ]
    },
    {
     "name": "stderr",
     "output_type": "stream",
     "text": [
      "100%|██████████| 19355/19355 [29:26<00:00, 10.96it/s] \n"
     ]
    }
   ],
   "source": [
    "df['spacy'] = df['MessageText'].progress_apply(nlp)"
   ]
  },
  {
   "cell_type": "code",
   "execution_count": 12,
   "metadata": {},
   "outputs": [],
   "source": [
    "df.to_pickle('data/mentions_spacy.pkl')"
   ]
  },
  {
   "cell_type": "markdown",
   "metadata": {},
   "source": [
    "# Issuers (with synonyms)"
   ]
  },
  {
   "cell_type": "code",
   "execution_count": 57,
   "metadata": {},
   "outputs": [
    {
     "data": {
      "text/html": [
       "<div>\n",
       "<style scoped>\n",
       "    .dataframe tbody tr th:only-of-type {\n",
       "        vertical-align: middle;\n",
       "    }\n",
       "\n",
       "    .dataframe tbody tr th {\n",
       "        vertical-align: top;\n",
       "    }\n",
       "\n",
       "    .dataframe thead th {\n",
       "        text-align: right;\n",
       "    }\n",
       "</style>\n",
       "<table border=\"1\" class=\"dataframe\">\n",
       "  <thead>\n",
       "    <tr style=\"text-align: right;\">\n",
       "      <th></th>\n",
       "      <th>issuerid</th>\n",
       "      <th>EMITENT_FULL_NAME</th>\n",
       "      <th>VeryOddCompany</th>\n",
       "      <th>BGTicker</th>\n",
       "      <th>BGTicker.1</th>\n",
       "      <th>Unnamed: 5</th>\n",
       "      <th>Unnamed: 6</th>\n",
       "      <th>Unnamed: 7</th>\n",
       "      <th>Unnamed: 8</th>\n",
       "      <th>Unnamed: 9</th>\n",
       "      <th>Unnamed: 10</th>\n",
       "      <th>Unnamed: 11</th>\n",
       "      <th>Unnamed: 12</th>\n",
       "      <th>Unnamed: 13</th>\n",
       "      <th>Unnamed: 14</th>\n",
       "    </tr>\n",
       "  </thead>\n",
       "  <tbody>\n",
       "    <tr>\n",
       "      <th>0</th>\n",
       "      <td>1</td>\n",
       "      <td>Акционерный коммерческий банк \"Держава\" публич...</td>\n",
       "      <td>NaN</td>\n",
       "      <td>NaN</td>\n",
       "      <td>DERZP</td>\n",
       "      <td>Держава</td>\n",
       "      <td>DERZHAVA</td>\n",
       "      <td>DERZ</td>\n",
       "      <td>NaN</td>\n",
       "      <td>NaN</td>\n",
       "      <td>NaN</td>\n",
       "      <td>NaN</td>\n",
       "      <td>NaN</td>\n",
       "      <td>NaN</td>\n",
       "      <td>NaN</td>\n",
       "    </tr>\n",
       "    <tr>\n",
       "      <th>1</th>\n",
       "      <td>2</td>\n",
       "      <td>\"МОСКОВСКИЙ КРЕДИТНЫЙ БАНК\" (публичное акционе...</td>\n",
       "      <td>NaN</td>\n",
       "      <td>CBOM RX</td>\n",
       "      <td>NaN</td>\n",
       "      <td>Московский кредитный банк</td>\n",
       "      <td>мкб</td>\n",
       "      <td>Credit Bank of Moscow</td>\n",
       "      <td>Credit Bank</td>\n",
       "      <td>NaN</td>\n",
       "      <td>NaN</td>\n",
       "      <td>NaN</td>\n",
       "      <td>NaN</td>\n",
       "      <td>NaN</td>\n",
       "      <td>NaN</td>\n",
       "    </tr>\n",
       "    <tr>\n",
       "      <th>2</th>\n",
       "      <td>3</td>\n",
       "      <td>\"Российский акционерный коммерческий дорожный ...</td>\n",
       "      <td>NaN</td>\n",
       "      <td>NaN</td>\n",
       "      <td>RDRB</td>\n",
       "      <td>Российский акционерный коммерческий дорожный банк</td>\n",
       "      <td>РДБанк</td>\n",
       "      <td>Дорожный банк</td>\n",
       "      <td>Russian public joint-stock commercial roads Bank</td>\n",
       "      <td>RosDorBank</td>\n",
       "      <td>РосДорБанк</td>\n",
       "      <td>roads Bank</td>\n",
       "      <td>NaN</td>\n",
       "      <td>NaN</td>\n",
       "      <td>NaN</td>\n",
       "    </tr>\n",
       "    <tr>\n",
       "      <th>3</th>\n",
       "      <td>4</td>\n",
       "      <td>Акционерная компания \"АЛРОСА\" (публичное акцио...</td>\n",
       "      <td>NaN</td>\n",
       "      <td>ALRS RX</td>\n",
       "      <td>NaN</td>\n",
       "      <td>алроса</td>\n",
       "      <td>alrosa</td>\n",
       "      <td>NaN</td>\n",
       "      <td>NaN</td>\n",
       "      <td>NaN</td>\n",
       "      <td>NaN</td>\n",
       "      <td>NaN</td>\n",
       "      <td>NaN</td>\n",
       "      <td>NaN</td>\n",
       "      <td>NaN</td>\n",
       "    </tr>\n",
       "    <tr>\n",
       "      <th>4</th>\n",
       "      <td>5</td>\n",
       "      <td>Акционерный Коммерческий банк \"АВАНГАРД\" - пуб...</td>\n",
       "      <td>NaN</td>\n",
       "      <td>NaN</td>\n",
       "      <td>AVAN</td>\n",
       "      <td>Авангард</td>\n",
       "      <td>AVANGARD</td>\n",
       "      <td>NaN</td>\n",
       "      <td>NaN</td>\n",
       "      <td>NaN</td>\n",
       "      <td>NaN</td>\n",
       "      <td>NaN</td>\n",
       "      <td>NaN</td>\n",
       "      <td>NaN</td>\n",
       "      <td>NaN</td>\n",
       "    </tr>\n",
       "  </tbody>\n",
       "</table>\n",
       "</div>"
      ],
      "text/plain": [
       "   issuerid                                  EMITENT_FULL_NAME  \\\n",
       "0         1  Акционерный коммерческий банк \"Держава\" публич...   \n",
       "1         2  \"МОСКОВСКИЙ КРЕДИТНЫЙ БАНК\" (публичное акционе...   \n",
       "2         3  \"Российский акционерный коммерческий дорожный ...   \n",
       "3         4  Акционерная компания \"АЛРОСА\" (публичное акцио...   \n",
       "4         5  Акционерный Коммерческий банк \"АВАНГАРД\" - пуб...   \n",
       "\n",
       "   VeryOddCompany BGTicker BGTicker.1  \\\n",
       "0             NaN      NaN      DERZP   \n",
       "1             NaN  CBOM RX        NaN   \n",
       "2             NaN      NaN       RDRB   \n",
       "3             NaN  ALRS RX        NaN   \n",
       "4             NaN      NaN       AVAN   \n",
       "\n",
       "                                          Unnamed: 5 Unnamed: 6  \\\n",
       "0                                            Держава   DERZHAVA   \n",
       "1                          Московский кредитный банк        мкб   \n",
       "2  Российский акционерный коммерческий дорожный банк     РДБанк   \n",
       "3                                             алроса     alrosa   \n",
       "4                                           Авангард   AVANGARD   \n",
       "\n",
       "              Unnamed: 7                                        Unnamed: 8  \\\n",
       "0                   DERZ                                               NaN   \n",
       "1  Credit Bank of Moscow                                       Credit Bank   \n",
       "2          Дорожный банк  Russian public joint-stock commercial roads Bank   \n",
       "3                    NaN                                               NaN   \n",
       "4                    NaN                                               NaN   \n",
       "\n",
       "   Unnamed: 9 Unnamed: 10 Unnamed: 11 Unnamed: 12 Unnamed: 13 Unnamed: 14  \n",
       "0         NaN         NaN         NaN         NaN         NaN         NaN  \n",
       "1         NaN         NaN         NaN         NaN         NaN         NaN  \n",
       "2  RosDorBank  РосДорБанк  roads Bank         NaN         NaN         NaN  \n",
       "3         NaN         NaN         NaN         NaN         NaN         NaN  \n",
       "4         NaN         NaN         NaN         NaN         NaN         NaN  "
      ]
     },
     "execution_count": 57,
     "metadata": {},
     "output_type": "execute_result"
    }
   ],
   "source": [
    "issuers_synonyms = pd.read_excel(DATA_PATH + '/names and synonyms.xlsx')\n",
    "issuers_synonyms.head()"
   ]
  },
  {
   "cell_type": "code",
   "execution_count": 102,
   "metadata": {},
   "outputs": [
    {
     "data": {
      "text/plain": [
       "array(['Публичное акционерное общество \"Магнитогорский металлургический комбинат\"'],\n",
       "      dtype=object)"
      ]
     },
     "execution_count": 102,
     "metadata": {},
     "output_type": "execute_result"
    }
   ],
   "source": [
    "issuers_synonyms[issuers_synonyms['issuerid'] == 90]['EMITENT_FULL_NAME'].values"
   ]
  },
  {
   "cell_type": "code",
   "execution_count": 58,
   "metadata": {},
   "outputs": [
    {
     "data": {
      "text/plain": [
       "Index(['EMITENT_FULL_NAME', 'VeryOddCompany', 'BGTicker', 'BGTicker.1',\n",
       "       'Unnamed: 5', 'Unnamed: 6', 'Unnamed: 7', 'Unnamed: 8', 'Unnamed: 9',\n",
       "       'Unnamed: 10', 'Unnamed: 11', 'Unnamed: 12', 'Unnamed: 13',\n",
       "       'Unnamed: 14'],\n",
       "      dtype='object')"
      ]
     },
     "execution_count": 58,
     "metadata": {},
     "output_type": "execute_result"
    }
   ],
   "source": [
    "issuers_synonyms.columns[1:]"
   ]
  },
  {
   "cell_type": "code",
   "execution_count": null,
   "metadata": {},
   "outputs": [],
   "source": [
    "synonyms_cols = ['EMITENT_FULL_NAME', 'VeryOddCompany', 'BGTicker', 'BGTicker.1',\n",
    "       'Unnamed: 5', 'Unnamed: 6', 'Unnamed: 7', 'Unnamed: 8', 'Unnamed: 9',\n",
    "       'Unnamed: 10', 'Unnamed: 11', 'Unnamed: 12', 'Unnamed: 13', 'Unnamed: 14']"
   ]
  },
  {
   "cell_type": "code",
   "execution_count": 59,
   "metadata": {},
   "outputs": [],
   "source": [
    "issuers_synonyms['count_synonyms'] = (~issuers_synonyms[synonyms_cols].isna()).sum(axis=1)\n",
    "issuers_synonyms['issuerid_list'] = issuers_synonyms.apply(lambda x: [x['issuerid']] * x['count_synonyms'], axis=1)"
   ]
  },
  {
   "cell_type": "code",
   "execution_count": 64,
   "metadata": {},
   "outputs": [
    {
     "data": {
      "text/html": [
       "<div>\n",
       "<style scoped>\n",
       "    .dataframe tbody tr th:only-of-type {\n",
       "        vertical-align: middle;\n",
       "    }\n",
       "\n",
       "    .dataframe tbody tr th {\n",
       "        vertical-align: top;\n",
       "    }\n",
       "\n",
       "    .dataframe thead th {\n",
       "        text-align: right;\n",
       "    }\n",
       "</style>\n",
       "<table border=\"1\" class=\"dataframe\">\n",
       "  <thead>\n",
       "    <tr style=\"text-align: right;\">\n",
       "      <th></th>\n",
       "      <th>company</th>\n",
       "      <th>issuerid</th>\n",
       "    </tr>\n",
       "  </thead>\n",
       "  <tbody>\n",
       "    <tr>\n",
       "      <th>0</th>\n",
       "      <td>Акционерный коммерческий банк \"Держава\" публич...</td>\n",
       "      <td>1</td>\n",
       "    </tr>\n",
       "    <tr>\n",
       "      <th>1</th>\n",
       "      <td>DERZP</td>\n",
       "      <td>1</td>\n",
       "    </tr>\n",
       "    <tr>\n",
       "      <th>2</th>\n",
       "      <td>Держава</td>\n",
       "      <td>1</td>\n",
       "    </tr>\n",
       "    <tr>\n",
       "      <th>3</th>\n",
       "      <td>DERZHAVA</td>\n",
       "      <td>1</td>\n",
       "    </tr>\n",
       "    <tr>\n",
       "      <th>4</th>\n",
       "      <td>DERZ</td>\n",
       "      <td>1</td>\n",
       "    </tr>\n",
       "    <tr>\n",
       "      <th>...</th>\n",
       "      <td>...</td>\n",
       "      <td>...</td>\n",
       "    </tr>\n",
       "    <tr>\n",
       "      <th>1073</th>\n",
       "      <td>ПАО \"Каршеринг Руссия\"</td>\n",
       "      <td>273</td>\n",
       "    </tr>\n",
       "    <tr>\n",
       "      <th>1074</th>\n",
       "      <td>\"Каршеринг Руссия\", ПАО</td>\n",
       "      <td>273</td>\n",
       "    </tr>\n",
       "    <tr>\n",
       "      <th>1075</th>\n",
       "      <td>Диасофт</td>\n",
       "      <td>274</td>\n",
       "    </tr>\n",
       "    <tr>\n",
       "      <th>1076</th>\n",
       "      <td>DIAS</td>\n",
       "      <td>274</td>\n",
       "    </tr>\n",
       "    <tr>\n",
       "      <th>1077</th>\n",
       "      <td>Diasoft</td>\n",
       "      <td>274</td>\n",
       "    </tr>\n",
       "  </tbody>\n",
       "</table>\n",
       "<p>1078 rows × 2 columns</p>\n",
       "</div>"
      ],
      "text/plain": [
       "                                                company  issuerid\n",
       "0     Акционерный коммерческий банк \"Держава\" публич...         1\n",
       "1                                                 DERZP         1\n",
       "2                                               Держава         1\n",
       "3                                              DERZHAVA         1\n",
       "4                                                  DERZ         1\n",
       "...                                                 ...       ...\n",
       "1073                             ПАО \"Каршеринг Руссия\"       273\n",
       "1074                            \"Каршеринг Руссия\", ПАО       273\n",
       "1075                                            Диасофт       274\n",
       "1076                                               DIAS       274\n",
       "1077                                            Diasoft       274\n",
       "\n",
       "[1078 rows x 2 columns]"
      ]
     },
     "execution_count": 64,
     "metadata": {},
     "output_type": "execute_result"
    }
   ],
   "source": [
    "synonyms_mapper = pd.DataFrame({\n",
    "    'company': issuers_synonyms[synonyms_cols].stack().reset_index()[0],\n",
    "    'issuerid': issuers_synonyms['issuerid_list'].sum()\n",
    "})\n",
    "\n",
    "synonyms_mapper"
   ]
  },
  {
   "cell_type": "code",
   "execution_count": 65,
   "metadata": {},
   "outputs": [
    {
     "name": "stderr",
     "output_type": "stream",
     "text": [
      "100%|██████████| 1078/1078 [00:14<00:00, 72.82it/s]\n"
     ]
    }
   ],
   "source": [
    "synonyms_mapper['spacy'] = synonyms_mapper['company'].progress_apply(nlp)\n",
    "synonyms_mapper['company_cleaned'] = synonyms_mapper['spacy'].progress_apply(lambda x: ' '.join([t.lemma_ for t in x if t.lemma_ not in punctuation]))\n",
    "synonyms_mapper.index = synonyms_mapper['company_cleaned']"
   ]
  },
  {
   "cell_type": "code",
   "execution_count": 74,
   "metadata": {},
   "outputs": [],
   "source": [
    "synonyms_mapper[['company', 'issuerid', 'company_cleaned']].to_csv('data/synonyms_mapper.csv')"
   ]
  },
  {
   "cell_type": "markdown",
   "metadata": {},
   "source": [
    "# Поиск упоминаний компаний"
   ]
  },
  {
   "cell_type": "code",
   "execution_count": 109,
   "metadata": {},
   "outputs": [],
   "source": [
    "def get_mentions(doc: spacy.language.Doc, synonyms_mapper: pd.DataFrame) -> dict:\n",
    "    companies = [t.lemma_ for t in doc if t.ent_type_ == 'ORG']\n",
    "    issuer_ids = synonyms_mapper[synonyms_mapper['company_cleaned'].isin(companies)]['issuerid'].values\n",
    "    mentions = synonyms_mapper[synonyms_mapper['company_cleaned'].isin(companies)]['company_cleaned'].values\n",
    "    return {\n",
    "        'companies': mentions,\n",
    "        'issuer_ids': issuer_ids\n",
    "    }"
   ]
  },
  {
   "cell_type": "code",
   "execution_count": 110,
   "metadata": {},
   "outputs": [
    {
     "data": {
      "text/plain": [
       "{'companies': array(['норникель', 'ммк', 'нлмк', 'цмт'], dtype=object),\n",
       " 'issuer_ids': array([ 53,  90, 116, 189], dtype=int64)}"
      ]
     },
     "execution_count": 110,
     "metadata": {},
     "output_type": "execute_result"
    }
   ],
   "source": [
    "get_mentions(df.loc[0, 'spacy'], synonyms_mapper)"
   ]
  },
  {
   "cell_type": "markdown",
   "metadata": {},
   "source": [
    "Находим упоминания компаний:"
   ]
  },
  {
   "cell_type": "code",
   "execution_count": 79,
   "metadata": {},
   "outputs": [
    {
     "data": {
      "text/plain": [
       "['ммк',\n",
       " 'фрс',\n",
       " 'фрс',\n",
       " 'tesla',\n",
       " 'microsoft',\n",
       " 'facebook',\n",
       " 'мсфо',\n",
       " 'evraz',\n",
       " 'норникель',\n",
       " 'нлмк',\n",
       " 'apple',\n",
       " 'amazon',\n",
       " 'gilead',\n",
       " 'мосбирже',\n",
       " 'exxon',\n",
       " 'mobil',\n",
       " 'chevron',\n",
       " 'цмт']"
      ]
     },
     "execution_count": 79,
     "metadata": {},
     "output_type": "execute_result"
    }
   ],
   "source": [
    "companies = [t.lemma_ for t in df.loc[0, 'spacy'] if t.ent_type_ == 'ORG']\n",
    "companies"
   ]
  },
  {
   "cell_type": "markdown",
   "metadata": {},
   "source": [
    "Отбрасываем все, что не входит в список целевых компаний и находим соответствия:"
   ]
  },
  {
   "cell_type": "code",
   "execution_count": 88,
   "metadata": {},
   "outputs": [
    {
     "data": {
      "text/html": [
       "<div>\n",
       "<style scoped>\n",
       "    .dataframe tbody tr th:only-of-type {\n",
       "        vertical-align: middle;\n",
       "    }\n",
       "\n",
       "    .dataframe tbody tr th {\n",
       "        vertical-align: top;\n",
       "    }\n",
       "\n",
       "    .dataframe thead th {\n",
       "        text-align: right;\n",
       "    }\n",
       "</style>\n",
       "<table border=\"1\" class=\"dataframe\">\n",
       "  <thead>\n",
       "    <tr style=\"text-align: right;\">\n",
       "      <th></th>\n",
       "      <th>company</th>\n",
       "      <th>issuerid</th>\n",
       "    </tr>\n",
       "    <tr>\n",
       "      <th>company_cleaned</th>\n",
       "      <th></th>\n",
       "      <th></th>\n",
       "    </tr>\n",
       "  </thead>\n",
       "  <tbody>\n",
       "    <tr>\n",
       "      <th>норникель</th>\n",
       "      <td>Норникель</td>\n",
       "      <td>53</td>\n",
       "    </tr>\n",
       "    <tr>\n",
       "      <th>ммк</th>\n",
       "      <td>ММК</td>\n",
       "      <td>90</td>\n",
       "    </tr>\n",
       "    <tr>\n",
       "      <th>нлмк</th>\n",
       "      <td>НЛМК</td>\n",
       "      <td>116</td>\n",
       "    </tr>\n",
       "    <tr>\n",
       "      <th>цмт</th>\n",
       "      <td>ЦМТ</td>\n",
       "      <td>189</td>\n",
       "    </tr>\n",
       "  </tbody>\n",
       "</table>\n",
       "</div>"
      ],
      "text/plain": [
       "                   company  issuerid\n",
       "company_cleaned                     \n",
       "норникель        Норникель        53\n",
       "ммк                    ММК        90\n",
       "нлмк                  НЛМК       116\n",
       "цмт                    ЦМТ       189"
      ]
     },
     "execution_count": 88,
     "metadata": {},
     "output_type": "execute_result"
    }
   ],
   "source": [
    "synonyms_mapper[synonyms_mapper['company_cleaned'].isin(companies)][['company',\t'issuerid']]"
   ]
  },
  {
   "cell_type": "markdown",
   "metadata": {},
   "source": [
    "Индексы для сабмит файла:"
   ]
  },
  {
   "cell_type": "code",
   "execution_count": 90,
   "metadata": {},
   "outputs": [
    {
     "data": {
      "text/plain": [
       "array([ 53,  90, 116, 189], dtype=int64)"
      ]
     },
     "execution_count": 90,
     "metadata": {},
     "output_type": "execute_result"
    }
   ],
   "source": [
    "found = synonyms_mapper[synonyms_mapper['company_cleaned'].isin(companies)]['issuerid'].values\n",
    "found"
   ]
  },
  {
   "cell_type": "markdown",
   "metadata": {},
   "source": [
    "# Выделение предложений, в которых упоминается компания"
   ]
  },
  {
   "cell_type": "code",
   "execution_count": 141,
   "metadata": {},
   "outputs": [
    {
     "data": {
      "text/plain": [
       "['НорНикель опубликует производственные результаты за 1 кв. 2020 #GMKN #Результаты ??????',\n",
       " 'ММК опубликует финансовую отчётность за 1 кв. 2020 #MAGN #Отчетность ??????',\n",
       " 'СД НЛМК рассмотрит дивиденды за 1 кв. 2020 #NLMK #Дивиденды  ??????',\n",
       " 'Акции ЦМТ последний день торгуются с дивидендом 0,56 руб. на акцию #WTCM #Дивиденды']"
      ]
     },
     "execution_count": 141,
     "metadata": {},
     "output_type": "execute_result"
    }
   ],
   "source": [
    "doc = df.loc[0, 'spacy']\n",
    "mentions = synonyms_mapper[synonyms_mapper['company_cleaned'].isin(companies)]['company_cleaned'].values\n",
    "sents = [sent.text for company_mention in mentions for sent in doc.sents if company_mention in sent.text.lower()]\n",
    "sents"
   ]
  },
  {
   "cell_type": "markdown",
   "metadata": {},
   "source": [
    "# Sentiment analysis with dostoevsky"
   ]
  },
  {
   "cell_type": "code",
   "execution_count": 121,
   "metadata": {},
   "outputs": [
    {
     "name": "stderr",
     "output_type": "stream",
     "text": [
      "Warning : `load_model` does not return WordVectorModel or SupervisedModel any more, but a `FastText` object which is very similar.\n"
     ]
    }
   ],
   "source": [
    "tokenizer = RegexTokenizer()\n",
    "model = FastTextSocialNetworkModel(tokenizer=tokenizer)"
   ]
  },
  {
   "cell_type": "code",
   "execution_count": 130,
   "metadata": {},
   "outputs": [],
   "source": [
    "results = model.predict(sents, k=2)"
   ]
  },
  {
   "cell_type": "code",
   "execution_count": 133,
   "metadata": {},
   "outputs": [
    {
     "name": "stdout",
     "output_type": "stream",
     "text": [
      "норникель: {'neutral': 0.9659096002578735, 'skip': 0.0695517510175705}\n",
      "ммк: {'neutral': 0.8670457601547241, 'skip': 0.09535945951938629}\n",
      "нлмк: {'neutral': 0.7248802781105042, 'skip': 0.21207880973815918}\n",
      "цмт: {'neutral': 0.7663036584854126, 'skip': 0.12253321707248688}\n"
     ]
    }
   ],
   "source": [
    "for mention, sentiment in zip(mentions, results):\n",
    "    print(f'{mention}: {sentiment}')"
   ]
  },
  {
   "cell_type": "code",
   "execution_count": 142,
   "metadata": {},
   "outputs": [
    {
     "data": {
      "text/plain": [
       "[{'neutral': 0.9659096002578735, 'skip': 0.0695517510175705},\n",
       " {'neutral': 0.8670457601547241, 'skip': 0.09535945951938629},\n",
       " {'neutral': 0.7248802781105042, 'skip': 0.21207880973815918},\n",
       " {'neutral': 0.7663036584854126, 'skip': 0.12253321707248688}]"
      ]
     },
     "execution_count": 142,
     "metadata": {},
     "output_type": "execute_result"
    }
   ],
   "source": [
    "results"
   ]
  },
  {
   "cell_type": "markdown",
   "metadata": {},
   "source": [
    "# Predict"
   ]
  },
  {
   "cell_type": "code",
   "execution_count": 144,
   "metadata": {},
   "outputs": [],
   "source": [
    "def predict(doc: spacy.language.Doc, synonyms_mapper: pd.DataFrame, model: FastTextSocialNetworkModel) -> dict:\n",
    "    companies = [t.lemma_ for t in doc if t.ent_type_ == 'ORG']\n",
    "    issuer_ids = synonyms_mapper[synonyms_mapper['company_cleaned'].isin(companies)]['issuerid'].values\n",
    "    mentions = synonyms_mapper[synonyms_mapper['company_cleaned'].isin(companies)]['company_cleaned'].values\n",
    "    sents = [sent.text for company_mention in mentions for sent in doc.sents if company_mention in sent.text.lower()]\n",
    "    results = model.predict(sents, k=2)\n",
    "    \n",
    "    return {\n",
    "        'companies': mentions,\n",
    "        'issuer_ids': issuer_ids,\n",
    "        'sentiment': results\n",
    "    }"
   ]
  },
  {
   "cell_type": "code",
   "execution_count": 145,
   "metadata": {},
   "outputs": [
    {
     "name": "stderr",
     "output_type": "stream",
     "text": [
      "100%|██████████| 19355/19355 [01:29<00:00, 216.21it/s]\n"
     ]
    }
   ],
   "source": [
    "df['predicts'] = df['spacy'].progress_apply(lambda doc: predict(doc, synonyms_mapper, model))"
   ]
  },
  {
   "cell_type": "code",
   "execution_count": 151,
   "metadata": {},
   "outputs": [
    {
     "name": "stdout",
     "output_type": "stream",
     "text": [
      "Предикт на текст, сек: 4.598295014208215\n"
     ]
    }
   ],
   "source": [
    "print(f'Предикт на текст, сек: {(60 + 29) / 19355 * 1000}')"
   ]
  },
  {
   "cell_type": "code",
   "execution_count": 152,
   "metadata": {},
   "outputs": [
    {
     "name": "stdout",
     "output_type": "stream",
     "text": [
      "Предобработка спейси на текст, сек: 91.2425729785585\n"
     ]
    }
   ],
   "source": [
    "print(f'Предобработка спейси на текст, сек: {(29 * 60 + 26) / 19355 * 1000}')"
   ]
  },
  {
   "cell_type": "code",
   "execution_count": 154,
   "metadata": {},
   "outputs": [
    {
     "name": "stdout",
     "output_type": "stream",
     "text": [
      "Общее время инференса, сек: 95.84086799276672\n"
     ]
    }
   ],
   "source": [
    "print(f'Общее время инференса, сек: {(60 + 29) / 19355 * 1000 + (29 * 60 + 26) / 19355 * 1000}')"
   ]
  },
  {
   "cell_type": "code",
   "execution_count": null,
   "metadata": {},
   "outputs": [],
   "source": []
  }
 ],
 "metadata": {
  "kernelspec": {
   "display_name": "Python 3",
   "language": "python",
   "name": "python3"
  },
  "language_info": {
   "codemirror_mode": {
    "name": "ipython",
    "version": 3
   },
   "file_extension": ".py",
   "mimetype": "text/x-python",
   "name": "python",
   "nbconvert_exporter": "python",
   "pygments_lexer": "ipython3",
   "version": "3.9.6"
  }
 },
 "nbformat": 4,
 "nbformat_minor": 2
}
